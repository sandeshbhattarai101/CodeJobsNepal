{
 "cells": [
  {
   "cell_type": "code",
   "execution_count": null,
   "id": "c88ee826-5e46-4848-aba3-0cf7a61d4641",
   "metadata": {},
   "outputs": [],
   "source": [
    "import requests\n",
    "import pandas as pd"
   ]
  },
  {
   "cell_type": "code",
   "execution_count": 62,
   "id": "4c76b23a-8d94-45fe-b894-01fbafb48608",
   "metadata": {},
   "outputs": [],
   "source": [
    "final = pd.DataFrame()\n",
    "\n",
    "for j in range(1, 51):\n",
    "    response = requests.get('https://api.themoviedb.org/3/movie/popular?api_key=8265bd1679663a7ea12ac168da84d2e8&language=en-US&page={}'.format(j)).json()\n",
    "    popularity = []\n",
    "    vote_count = []\n",
    "    original_language = []\n",
    "    title = []\n",
    "    vote_average = []\n",
    "    overview = []\n",
    "    release_date = []\n",
    "    \n",
    "    # popularity, vote_count, original_language, title, vote_average, overview, release_date = ([] for _ in range(7))\n",
    "    \n",
    "    for i in response['results']:\n",
    "        popularity.append(i['popularity'])\n",
    "        vote_count.append(i['vote_count'])\n",
    "        original_language.append(i['original_language'])\n",
    "        title.append(i['title'])\n",
    "        vote_average.append(i['vote_average'])\n",
    "        overview.append(i['overview'])\n",
    "        release_date.append(i['release_date'])\n",
    "    \n",
    "    d = {'title':title, 'overview':overview, 'original_language':original_language, 'release_date':release_date, 'populatrity':popularity, 'vote_count':vote_count, 'vote_average':vote_average}\n",
    "    \n",
    "    df = pd.DataFrame(d)\n",
    "\n",
    "    final = final._append(df, ignore_index = True)\n",
    "    "
   ]
  },
  {
   "cell_type": "code",
   "execution_count": 64,
   "id": "74ffcfe0-8e69-48cf-806f-14eb86288074",
   "metadata": {},
   "outputs": [],
   "source": [
    "final"
   ]
  },
  {
   "cell_type": "code",
   "execution_count": null,
   "id": "2b1f0876-4300-46e4-8ffe-3d0fdbd72094",
   "metadata": {},
   "outputs": [],
   "source": []
  }
 ],
 "metadata": {
  "kernelspec": {
   "display_name": "Python [conda env:base] *",
   "language": "python",
   "name": "conda-base-py"
  },
  "language_info": {
   "codemirror_mode": {
    "name": "ipython",
    "version": 3
   },
   "file_extension": ".py",
   "mimetype": "text/x-python",
   "name": "python",
   "nbconvert_exporter": "python",
   "pygments_lexer": "ipython3",
   "version": "3.13.5"
  }
 },
 "nbformat": 4,
 "nbformat_minor": 5
}
